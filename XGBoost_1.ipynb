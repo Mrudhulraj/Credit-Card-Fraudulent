{
 "cells": [
  {
   "cell_type": "code",
   "execution_count": 49,
   "metadata": {},
   "outputs": [],
   "source": [
    "import xgboost as xgb"
   ]
  },
  {
   "cell_type": "code",
   "execution_count": 50,
   "metadata": {},
   "outputs": [],
   "source": [
    "import numpy as np\n",
    "import pandas as pd\n"
   ]
  },
  {
   "cell_type": "code",
   "execution_count": 51,
   "metadata": {},
   "outputs": [],
   "source": [
    "from sklearn.model_selection import train_test_split\n",
    "from sklearn.metrics import balanced_accuracy_score,roc_auc_score,make_scorer\n",
    "from sklearn.model_selection import GridSearchCV\n",
    "from sklearn.metrics import confusion_matrix\n",
    "from sklearn.metrics import plot_confusion_matrix\n",
    "from sklearn.preprocessing import StandardScaler\n"
   ]
  },
  {
   "cell_type": "code",
   "execution_count": 52,
   "metadata": {},
   "outputs": [],
   "source": [
    "df=pd.read_csv('train.csv')"
   ]
  },
  {
   "cell_type": "code",
   "execution_count": 53,
   "metadata": {},
   "outputs": [
    {
     "data": {
      "text/html": [
       "<div>\n",
       "<style scoped>\n",
       "    .dataframe tbody tr th:only-of-type {\n",
       "        vertical-align: middle;\n",
       "    }\n",
       "\n",
       "    .dataframe tbody tr th {\n",
       "        vertical-align: top;\n",
       "    }\n",
       "\n",
       "    .dataframe thead th {\n",
       "        text-align: right;\n",
       "    }\n",
       "</style>\n",
       "<table border=\"1\" class=\"dataframe\">\n",
       "  <thead>\n",
       "    <tr style=\"text-align: right;\">\n",
       "      <th></th>\n",
       "      <th>customer_id</th>\n",
       "      <th>name</th>\n",
       "      <th>age</th>\n",
       "      <th>gender</th>\n",
       "      <th>owns_car</th>\n",
       "      <th>owns_house</th>\n",
       "      <th>no_of_children</th>\n",
       "      <th>net_yearly_income</th>\n",
       "      <th>no_of_days_employed</th>\n",
       "      <th>occupation_type</th>\n",
       "      <th>total_family_members</th>\n",
       "      <th>migrant_worker</th>\n",
       "      <th>yearly_debt_payments</th>\n",
       "      <th>credit_limit</th>\n",
       "      <th>credit_limit_used(%)</th>\n",
       "      <th>credit_score</th>\n",
       "      <th>prev_defaults</th>\n",
       "      <th>default_in_last_6months</th>\n",
       "      <th>credit_card_default</th>\n",
       "    </tr>\n",
       "  </thead>\n",
       "  <tbody>\n",
       "    <tr>\n",
       "      <th>0</th>\n",
       "      <td>CST_115179</td>\n",
       "      <td>ita Bose</td>\n",
       "      <td>46</td>\n",
       "      <td>F</td>\n",
       "      <td>N</td>\n",
       "      <td>Y</td>\n",
       "      <td>0.0</td>\n",
       "      <td>107934.04</td>\n",
       "      <td>612.0</td>\n",
       "      <td>Unknown</td>\n",
       "      <td>1.0</td>\n",
       "      <td>1.0</td>\n",
       "      <td>33070.28</td>\n",
       "      <td>18690.93</td>\n",
       "      <td>73</td>\n",
       "      <td>544</td>\n",
       "      <td>2</td>\n",
       "      <td>1</td>\n",
       "      <td>1</td>\n",
       "    </tr>\n",
       "    <tr>\n",
       "      <th>1</th>\n",
       "      <td>CST_121920</td>\n",
       "      <td>Alper Jonathan</td>\n",
       "      <td>29</td>\n",
       "      <td>M</td>\n",
       "      <td>N</td>\n",
       "      <td>Y</td>\n",
       "      <td>0.0</td>\n",
       "      <td>109862.62</td>\n",
       "      <td>2771.0</td>\n",
       "      <td>Laborers</td>\n",
       "      <td>2.0</td>\n",
       "      <td>0.0</td>\n",
       "      <td>15329.53</td>\n",
       "      <td>37745.19</td>\n",
       "      <td>52</td>\n",
       "      <td>857</td>\n",
       "      <td>0</td>\n",
       "      <td>0</td>\n",
       "      <td>0</td>\n",
       "    </tr>\n",
       "    <tr>\n",
       "      <th>2</th>\n",
       "      <td>CST_109330</td>\n",
       "      <td>Umesh Desai</td>\n",
       "      <td>37</td>\n",
       "      <td>M</td>\n",
       "      <td>N</td>\n",
       "      <td>Y</td>\n",
       "      <td>0.0</td>\n",
       "      <td>230153.17</td>\n",
       "      <td>204.0</td>\n",
       "      <td>Laborers</td>\n",
       "      <td>2.0</td>\n",
       "      <td>0.0</td>\n",
       "      <td>48416.60</td>\n",
       "      <td>41598.36</td>\n",
       "      <td>43</td>\n",
       "      <td>650</td>\n",
       "      <td>0</td>\n",
       "      <td>0</td>\n",
       "      <td>0</td>\n",
       "    </tr>\n",
       "    <tr>\n",
       "      <th>3</th>\n",
       "      <td>CST_128288</td>\n",
       "      <td>Rie</td>\n",
       "      <td>39</td>\n",
       "      <td>F</td>\n",
       "      <td>N</td>\n",
       "      <td>Y</td>\n",
       "      <td>0.0</td>\n",
       "      <td>122325.82</td>\n",
       "      <td>11941.0</td>\n",
       "      <td>Core staff</td>\n",
       "      <td>2.0</td>\n",
       "      <td>0.0</td>\n",
       "      <td>22574.36</td>\n",
       "      <td>32627.76</td>\n",
       "      <td>20</td>\n",
       "      <td>754</td>\n",
       "      <td>0</td>\n",
       "      <td>0</td>\n",
       "      <td>0</td>\n",
       "    </tr>\n",
       "    <tr>\n",
       "      <th>4</th>\n",
       "      <td>CST_151355</td>\n",
       "      <td>McCool</td>\n",
       "      <td>46</td>\n",
       "      <td>M</td>\n",
       "      <td>Y</td>\n",
       "      <td>Y</td>\n",
       "      <td>0.0</td>\n",
       "      <td>387286.00</td>\n",
       "      <td>1459.0</td>\n",
       "      <td>Core staff</td>\n",
       "      <td>1.0</td>\n",
       "      <td>0.0</td>\n",
       "      <td>38282.95</td>\n",
       "      <td>52950.64</td>\n",
       "      <td>75</td>\n",
       "      <td>927</td>\n",
       "      <td>0</td>\n",
       "      <td>0</td>\n",
       "      <td>0</td>\n",
       "    </tr>\n",
       "  </tbody>\n",
       "</table>\n",
       "</div>"
      ],
      "text/plain": [
       "  customer_id            name  age gender owns_car owns_house  no_of_children  \\\n",
       "0  CST_115179        ita Bose   46      F        N          Y             0.0   \n",
       "1  CST_121920  Alper Jonathan   29      M        N          Y             0.0   \n",
       "2  CST_109330     Umesh Desai   37      M        N          Y             0.0   \n",
       "3  CST_128288             Rie   39      F        N          Y             0.0   \n",
       "4  CST_151355          McCool   46      M        Y          Y             0.0   \n",
       "\n",
       "   net_yearly_income  no_of_days_employed occupation_type  \\\n",
       "0          107934.04                612.0         Unknown   \n",
       "1          109862.62               2771.0        Laborers   \n",
       "2          230153.17                204.0        Laborers   \n",
       "3          122325.82              11941.0      Core staff   \n",
       "4          387286.00               1459.0      Core staff   \n",
       "\n",
       "   total_family_members  migrant_worker  yearly_debt_payments  credit_limit  \\\n",
       "0                   1.0             1.0              33070.28      18690.93   \n",
       "1                   2.0             0.0              15329.53      37745.19   \n",
       "2                   2.0             0.0              48416.60      41598.36   \n",
       "3                   2.0             0.0              22574.36      32627.76   \n",
       "4                   1.0             0.0              38282.95      52950.64   \n",
       "\n",
       "   credit_limit_used(%)  credit_score  prev_defaults  default_in_last_6months  \\\n",
       "0                    73           544              2                        1   \n",
       "1                    52           857              0                        0   \n",
       "2                    43           650              0                        0   \n",
       "3                    20           754              0                        0   \n",
       "4                    75           927              0                        0   \n",
       "\n",
       "   credit_card_default  \n",
       "0                    1  \n",
       "1                    0  \n",
       "2                    0  \n",
       "3                    0  \n",
       "4                    0  "
      ]
     },
     "execution_count": 53,
     "metadata": {},
     "output_type": "execute_result"
    }
   ],
   "source": [
    "df.head()"
   ]
  },
  {
   "cell_type": "code",
   "execution_count": 54,
   "metadata": {},
   "outputs": [
    {
     "name": "stdout",
     "output_type": "stream",
     "text": [
      "<class 'pandas.core.frame.DataFrame'>\n",
      "RangeIndex: 45528 entries, 0 to 45527\n",
      "Data columns (total 19 columns):\n",
      " #   Column                   Non-Null Count  Dtype  \n",
      "---  ------                   --------------  -----  \n",
      " 0   customer_id              45528 non-null  object \n",
      " 1   name                     45528 non-null  object \n",
      " 2   age                      45528 non-null  int64  \n",
      " 3   gender                   45528 non-null  object \n",
      " 4   owns_car                 44981 non-null  object \n",
      " 5   owns_house               45528 non-null  object \n",
      " 6   no_of_children           44754 non-null  float64\n",
      " 7   net_yearly_income        45528 non-null  float64\n",
      " 8   no_of_days_employed      45065 non-null  float64\n",
      " 9   occupation_type          45528 non-null  object \n",
      " 10  total_family_members     45445 non-null  float64\n",
      " 11  migrant_worker           45441 non-null  float64\n",
      " 12  yearly_debt_payments     45433 non-null  float64\n",
      " 13  credit_limit             45528 non-null  float64\n",
      " 14  credit_limit_used(%)     45528 non-null  int64  \n",
      " 15  credit_score             45528 non-null  int64  \n",
      " 16  prev_defaults            45528 non-null  int64  \n",
      " 17  default_in_last_6months  45528 non-null  int64  \n",
      " 18  credit_card_default      45528 non-null  int64  \n",
      "dtypes: float64(7), int64(6), object(6)\n",
      "memory usage: 6.6+ MB\n"
     ]
    }
   ],
   "source": [
    "df.info()"
   ]
  },
  {
   "cell_type": "code",
   "execution_count": 55,
   "metadata": {},
   "outputs": [],
   "source": [
    "df.drop([\"name\"],axis=1,inplace=True)"
   ]
  },
  {
   "cell_type": "code",
   "execution_count": 56,
   "metadata": {},
   "outputs": [
    {
     "name": "stdout",
     "output_type": "stream",
     "text": [
      "<class 'pandas.core.frame.DataFrame'>\n",
      "RangeIndex: 45528 entries, 0 to 45527\n",
      "Data columns (total 18 columns):\n",
      " #   Column                   Non-Null Count  Dtype  \n",
      "---  ------                   --------------  -----  \n",
      " 0   customer_id              45528 non-null  object \n",
      " 1   age                      45528 non-null  int64  \n",
      " 2   gender                   45528 non-null  object \n",
      " 3   owns_car                 44981 non-null  object \n",
      " 4   owns_house               45528 non-null  object \n",
      " 5   no_of_children           44754 non-null  float64\n",
      " 6   net_yearly_income        45528 non-null  float64\n",
      " 7   no_of_days_employed      45065 non-null  float64\n",
      " 8   occupation_type          45528 non-null  object \n",
      " 9   total_family_members     45445 non-null  float64\n",
      " 10  migrant_worker           45441 non-null  float64\n",
      " 11  yearly_debt_payments     45433 non-null  float64\n",
      " 12  credit_limit             45528 non-null  float64\n",
      " 13  credit_limit_used(%)     45528 non-null  int64  \n",
      " 14  credit_score             45528 non-null  int64  \n",
      " 15  prev_defaults            45528 non-null  int64  \n",
      " 16  default_in_last_6months  45528 non-null  int64  \n",
      " 17  credit_card_default      45528 non-null  int64  \n",
      "dtypes: float64(7), int64(6), object(5)\n",
      "memory usage: 6.3+ MB\n"
     ]
    }
   ],
   "source": [
    "df.info()"
   ]
  },
  {
   "cell_type": "code",
   "execution_count": 57,
   "metadata": {},
   "outputs": [
    {
     "data": {
      "text/plain": [
       "array([ 0.,  1.,  2., nan,  3.,  4.,  5.,  6.,  7.,  8.,  9.])"
      ]
     },
     "execution_count": 57,
     "metadata": {},
     "output_type": "execute_result"
    }
   ],
   "source": [
    "df[\"no_of_children\"].unique()"
   ]
  },
  {
   "cell_type": "code",
   "execution_count": 58,
   "metadata": {},
   "outputs": [
    {
     "data": {
      "text/plain": [
       "array(['N', 'Y', nan], dtype=object)"
      ]
     },
     "execution_count": 58,
     "metadata": {},
     "output_type": "execute_result"
    }
   ],
   "source": [
    "df[\"owns_car\"].unique()"
   ]
  },
  {
   "cell_type": "code",
   "execution_count": 59,
   "metadata": {},
   "outputs": [
    {
     "data": {
      "text/plain": [
       "array(['Y', 'N'], dtype=object)"
      ]
     },
     "execution_count": 59,
     "metadata": {},
     "output_type": "execute_result"
    }
   ],
   "source": [
    "df[\"owns_house\"].unique()"
   ]
  },
  {
   "cell_type": "code",
   "execution_count": 60,
   "metadata": {},
   "outputs": [
    {
     "data": {
      "text/plain": [
       "array(['Unknown', 'Laborers', 'Core staff', 'Accountants',\n",
       "       'High skill tech staff', 'Sales staff', 'Managers', 'Drivers',\n",
       "       'Medicine staff', 'Cleaning staff', 'HR staff', 'Security staff',\n",
       "       'Cooking staff', 'Waiters/barmen staff', 'Low-skill Laborers',\n",
       "       'Private service staff', 'Secretaries', 'Realty agents',\n",
       "       'IT staff'], dtype=object)"
      ]
     },
     "execution_count": 60,
     "metadata": {},
     "output_type": "execute_result"
    }
   ],
   "source": [
    "df[\"occupation_type\"].unique()"
   ]
  },
  {
   "cell_type": "code",
   "execution_count": 61,
   "metadata": {},
   "outputs": [
    {
     "data": {
      "text/plain": [
       "87"
      ]
     },
     "execution_count": 61,
     "metadata": {},
     "output_type": "execute_result"
    }
   ],
   "source": [
    "df[\"migrant_worker\"].unique()\n",
    "len(df.loc[df[\"migrant_worker\"].isnull()])"
   ]
  },
  {
   "cell_type": "code",
   "execution_count": 62,
   "metadata": {},
   "outputs": [
    {
     "data": {
      "text/plain": [
       "array([33070.28, 15329.53, 48416.6 , ..., 22707.51, 20150.1 , 34603.78])"
      ]
     },
     "execution_count": 62,
     "metadata": {},
     "output_type": "execute_result"
    }
   ],
   "source": [
    "df[\"yearly_debt_payments\"].unique()"
   ]
  },
  {
   "cell_type": "code",
   "execution_count": 63,
   "metadata": {},
   "outputs": [
    {
     "data": {
      "text/plain": [
       "array([1, 0], dtype=int64)"
      ]
     },
     "execution_count": 63,
     "metadata": {},
     "output_type": "execute_result"
    }
   ],
   "source": [
    "df[\"credit_card_default\"].unique()"
   ]
  },
  {
   "cell_type": "code",
   "execution_count": 64,
   "metadata": {},
   "outputs": [
    {
     "data": {
      "text/html": [
       "<div>\n",
       "<style scoped>\n",
       "    .dataframe tbody tr th:only-of-type {\n",
       "        vertical-align: middle;\n",
       "    }\n",
       "\n",
       "    .dataframe tbody tr th {\n",
       "        vertical-align: top;\n",
       "    }\n",
       "\n",
       "    .dataframe thead th {\n",
       "        text-align: right;\n",
       "    }\n",
       "</style>\n",
       "<table border=\"1\" class=\"dataframe\">\n",
       "  <thead>\n",
       "    <tr style=\"text-align: right;\">\n",
       "      <th></th>\n",
       "      <th>customer_id</th>\n",
       "      <th>age</th>\n",
       "      <th>gender</th>\n",
       "      <th>owns_car</th>\n",
       "      <th>owns_house</th>\n",
       "      <th>no_of_children</th>\n",
       "      <th>net_yearly_income</th>\n",
       "      <th>no_of_days_employed</th>\n",
       "      <th>occupation_type</th>\n",
       "      <th>total_family_members</th>\n",
       "      <th>migrant_worker</th>\n",
       "      <th>yearly_debt_payments</th>\n",
       "      <th>credit_limit</th>\n",
       "      <th>credit_limit_used(%)</th>\n",
       "      <th>credit_score</th>\n",
       "      <th>prev_defaults</th>\n",
       "      <th>default_in_last_6months</th>\n",
       "    </tr>\n",
       "  </thead>\n",
       "  <tbody>\n",
       "    <tr>\n",
       "      <th>0</th>\n",
       "      <td>CST_115179</td>\n",
       "      <td>46</td>\n",
       "      <td>F</td>\n",
       "      <td>N</td>\n",
       "      <td>Y</td>\n",
       "      <td>0.0</td>\n",
       "      <td>107934.04</td>\n",
       "      <td>612.0</td>\n",
       "      <td>Unknown</td>\n",
       "      <td>1.0</td>\n",
       "      <td>1.0</td>\n",
       "      <td>33070.28</td>\n",
       "      <td>18690.93</td>\n",
       "      <td>73</td>\n",
       "      <td>544</td>\n",
       "      <td>2</td>\n",
       "      <td>1</td>\n",
       "    </tr>\n",
       "    <tr>\n",
       "      <th>1</th>\n",
       "      <td>CST_121920</td>\n",
       "      <td>29</td>\n",
       "      <td>M</td>\n",
       "      <td>N</td>\n",
       "      <td>Y</td>\n",
       "      <td>0.0</td>\n",
       "      <td>109862.62</td>\n",
       "      <td>2771.0</td>\n",
       "      <td>Laborers</td>\n",
       "      <td>2.0</td>\n",
       "      <td>0.0</td>\n",
       "      <td>15329.53</td>\n",
       "      <td>37745.19</td>\n",
       "      <td>52</td>\n",
       "      <td>857</td>\n",
       "      <td>0</td>\n",
       "      <td>0</td>\n",
       "    </tr>\n",
       "    <tr>\n",
       "      <th>2</th>\n",
       "      <td>CST_109330</td>\n",
       "      <td>37</td>\n",
       "      <td>M</td>\n",
       "      <td>N</td>\n",
       "      <td>Y</td>\n",
       "      <td>0.0</td>\n",
       "      <td>230153.17</td>\n",
       "      <td>204.0</td>\n",
       "      <td>Laborers</td>\n",
       "      <td>2.0</td>\n",
       "      <td>0.0</td>\n",
       "      <td>48416.60</td>\n",
       "      <td>41598.36</td>\n",
       "      <td>43</td>\n",
       "      <td>650</td>\n",
       "      <td>0</td>\n",
       "      <td>0</td>\n",
       "    </tr>\n",
       "    <tr>\n",
       "      <th>3</th>\n",
       "      <td>CST_128288</td>\n",
       "      <td>39</td>\n",
       "      <td>F</td>\n",
       "      <td>N</td>\n",
       "      <td>Y</td>\n",
       "      <td>0.0</td>\n",
       "      <td>122325.82</td>\n",
       "      <td>11941.0</td>\n",
       "      <td>Core staff</td>\n",
       "      <td>2.0</td>\n",
       "      <td>0.0</td>\n",
       "      <td>22574.36</td>\n",
       "      <td>32627.76</td>\n",
       "      <td>20</td>\n",
       "      <td>754</td>\n",
       "      <td>0</td>\n",
       "      <td>0</td>\n",
       "    </tr>\n",
       "    <tr>\n",
       "      <th>4</th>\n",
       "      <td>CST_151355</td>\n",
       "      <td>46</td>\n",
       "      <td>M</td>\n",
       "      <td>Y</td>\n",
       "      <td>Y</td>\n",
       "      <td>0.0</td>\n",
       "      <td>387286.00</td>\n",
       "      <td>1459.0</td>\n",
       "      <td>Core staff</td>\n",
       "      <td>1.0</td>\n",
       "      <td>0.0</td>\n",
       "      <td>38282.95</td>\n",
       "      <td>52950.64</td>\n",
       "      <td>75</td>\n",
       "      <td>927</td>\n",
       "      <td>0</td>\n",
       "      <td>0</td>\n",
       "    </tr>\n",
       "  </tbody>\n",
       "</table>\n",
       "</div>"
      ],
      "text/plain": [
       "  customer_id  age gender owns_car owns_house  no_of_children  \\\n",
       "0  CST_115179   46      F        N          Y             0.0   \n",
       "1  CST_121920   29      M        N          Y             0.0   \n",
       "2  CST_109330   37      M        N          Y             0.0   \n",
       "3  CST_128288   39      F        N          Y             0.0   \n",
       "4  CST_151355   46      M        Y          Y             0.0   \n",
       "\n",
       "   net_yearly_income  no_of_days_employed occupation_type  \\\n",
       "0          107934.04                612.0         Unknown   \n",
       "1          109862.62               2771.0        Laborers   \n",
       "2          230153.17                204.0        Laborers   \n",
       "3          122325.82              11941.0      Core staff   \n",
       "4          387286.00               1459.0      Core staff   \n",
       "\n",
       "   total_family_members  migrant_worker  yearly_debt_payments  credit_limit  \\\n",
       "0                   1.0             1.0              33070.28      18690.93   \n",
       "1                   2.0             0.0              15329.53      37745.19   \n",
       "2                   2.0             0.0              48416.60      41598.36   \n",
       "3                   2.0             0.0              22574.36      32627.76   \n",
       "4                   1.0             0.0              38282.95      52950.64   \n",
       "\n",
       "   credit_limit_used(%)  credit_score  prev_defaults  default_in_last_6months  \n",
       "0                    73           544              2                        1  \n",
       "1                    52           857              0                        0  \n",
       "2                    43           650              0                        0  \n",
       "3                    20           754              0                        0  \n",
       "4                    75           927              0                        0  "
      ]
     },
     "execution_count": 64,
     "metadata": {},
     "output_type": "execute_result"
    }
   ],
   "source": [
    "X=df.drop('credit_card_default',axis=1).copy()\n",
    "X.head()"
   ]
  },
  {
   "cell_type": "code",
   "execution_count": 65,
   "metadata": {},
   "outputs": [
    {
     "data": {
      "text/plain": [
       "0    1\n",
       "1    0\n",
       "2    0\n",
       "3    0\n",
       "4    0\n",
       "Name: credit_card_default, dtype: int64"
      ]
     },
     "execution_count": 65,
     "metadata": {},
     "output_type": "execute_result"
    }
   ],
   "source": [
    "y=df[\"credit_card_default\"]\n",
    "y.head()"
   ]
  },
  {
   "cell_type": "code",
   "execution_count": 66,
   "metadata": {},
   "outputs": [
    {
     "data": {
      "text/plain": [
       "customer_id                 object\n",
       "age                          int64\n",
       "gender                      object\n",
       "owns_car                    object\n",
       "owns_house                  object\n",
       "no_of_children             float64\n",
       "net_yearly_income          float64\n",
       "no_of_days_employed        float64\n",
       "occupation_type             object\n",
       "total_family_members       float64\n",
       "migrant_worker             float64\n",
       "yearly_debt_payments       float64\n",
       "credit_limit               float64\n",
       "credit_limit_used(%)         int64\n",
       "credit_score                 int64\n",
       "prev_defaults                int64\n",
       "default_in_last_6months      int64\n",
       "dtype: object"
      ]
     },
     "execution_count": 66,
     "metadata": {},
     "output_type": "execute_result"
    }
   ],
   "source": [
    "X.dtypes"
   ]
  },
  {
   "cell_type": "code",
   "execution_count": 67,
   "metadata": {},
   "outputs": [],
   "source": [
    "X.drop([\"customer_id\",\"no_of_children\"],axis=1,inplace=True)"
   ]
  },
  {
   "cell_type": "code",
   "execution_count": 68,
   "metadata": {},
   "outputs": [
    {
     "data": {
      "text/html": [
       "<div>\n",
       "<style scoped>\n",
       "    .dataframe tbody tr th:only-of-type {\n",
       "        vertical-align: middle;\n",
       "    }\n",
       "\n",
       "    .dataframe tbody tr th {\n",
       "        vertical-align: top;\n",
       "    }\n",
       "\n",
       "    .dataframe thead th {\n",
       "        text-align: right;\n",
       "    }\n",
       "</style>\n",
       "<table border=\"1\" class=\"dataframe\">\n",
       "  <thead>\n",
       "    <tr style=\"text-align: right;\">\n",
       "      <th></th>\n",
       "      <th>age</th>\n",
       "      <th>gender</th>\n",
       "      <th>owns_car</th>\n",
       "      <th>owns_house</th>\n",
       "      <th>net_yearly_income</th>\n",
       "      <th>no_of_days_employed</th>\n",
       "      <th>occupation_type</th>\n",
       "      <th>total_family_members</th>\n",
       "      <th>migrant_worker</th>\n",
       "      <th>yearly_debt_payments</th>\n",
       "      <th>credit_limit</th>\n",
       "      <th>credit_limit_used(%)</th>\n",
       "      <th>credit_score</th>\n",
       "      <th>prev_defaults</th>\n",
       "      <th>default_in_last_6months</th>\n",
       "    </tr>\n",
       "  </thead>\n",
       "  <tbody>\n",
       "    <tr>\n",
       "      <th>0</th>\n",
       "      <td>46</td>\n",
       "      <td>F</td>\n",
       "      <td>N</td>\n",
       "      <td>Y</td>\n",
       "      <td>107934.04</td>\n",
       "      <td>612.0</td>\n",
       "      <td>Unknown</td>\n",
       "      <td>1.0</td>\n",
       "      <td>1.0</td>\n",
       "      <td>33070.28</td>\n",
       "      <td>18690.93</td>\n",
       "      <td>73</td>\n",
       "      <td>544</td>\n",
       "      <td>2</td>\n",
       "      <td>1</td>\n",
       "    </tr>\n",
       "    <tr>\n",
       "      <th>1</th>\n",
       "      <td>29</td>\n",
       "      <td>M</td>\n",
       "      <td>N</td>\n",
       "      <td>Y</td>\n",
       "      <td>109862.62</td>\n",
       "      <td>2771.0</td>\n",
       "      <td>Laborers</td>\n",
       "      <td>2.0</td>\n",
       "      <td>0.0</td>\n",
       "      <td>15329.53</td>\n",
       "      <td>37745.19</td>\n",
       "      <td>52</td>\n",
       "      <td>857</td>\n",
       "      <td>0</td>\n",
       "      <td>0</td>\n",
       "    </tr>\n",
       "    <tr>\n",
       "      <th>2</th>\n",
       "      <td>37</td>\n",
       "      <td>M</td>\n",
       "      <td>N</td>\n",
       "      <td>Y</td>\n",
       "      <td>230153.17</td>\n",
       "      <td>204.0</td>\n",
       "      <td>Laborers</td>\n",
       "      <td>2.0</td>\n",
       "      <td>0.0</td>\n",
       "      <td>48416.60</td>\n",
       "      <td>41598.36</td>\n",
       "      <td>43</td>\n",
       "      <td>650</td>\n",
       "      <td>0</td>\n",
       "      <td>0</td>\n",
       "    </tr>\n",
       "    <tr>\n",
       "      <th>3</th>\n",
       "      <td>39</td>\n",
       "      <td>F</td>\n",
       "      <td>N</td>\n",
       "      <td>Y</td>\n",
       "      <td>122325.82</td>\n",
       "      <td>11941.0</td>\n",
       "      <td>Core staff</td>\n",
       "      <td>2.0</td>\n",
       "      <td>0.0</td>\n",
       "      <td>22574.36</td>\n",
       "      <td>32627.76</td>\n",
       "      <td>20</td>\n",
       "      <td>754</td>\n",
       "      <td>0</td>\n",
       "      <td>0</td>\n",
       "    </tr>\n",
       "    <tr>\n",
       "      <th>4</th>\n",
       "      <td>46</td>\n",
       "      <td>M</td>\n",
       "      <td>Y</td>\n",
       "      <td>Y</td>\n",
       "      <td>387286.00</td>\n",
       "      <td>1459.0</td>\n",
       "      <td>Core staff</td>\n",
       "      <td>1.0</td>\n",
       "      <td>0.0</td>\n",
       "      <td>38282.95</td>\n",
       "      <td>52950.64</td>\n",
       "      <td>75</td>\n",
       "      <td>927</td>\n",
       "      <td>0</td>\n",
       "      <td>0</td>\n",
       "    </tr>\n",
       "  </tbody>\n",
       "</table>\n",
       "</div>"
      ],
      "text/plain": [
       "   age gender owns_car owns_house  net_yearly_income  no_of_days_employed  \\\n",
       "0   46      F        N          Y          107934.04                612.0   \n",
       "1   29      M        N          Y          109862.62               2771.0   \n",
       "2   37      M        N          Y          230153.17                204.0   \n",
       "3   39      F        N          Y          122325.82              11941.0   \n",
       "4   46      M        Y          Y          387286.00               1459.0   \n",
       "\n",
       "  occupation_type  total_family_members  migrant_worker  yearly_debt_payments  \\\n",
       "0         Unknown                   1.0             1.0              33070.28   \n",
       "1        Laborers                   2.0             0.0              15329.53   \n",
       "2        Laborers                   2.0             0.0              48416.60   \n",
       "3      Core staff                   2.0             0.0              22574.36   \n",
       "4      Core staff                   1.0             0.0              38282.95   \n",
       "\n",
       "   credit_limit  credit_limit_used(%)  credit_score  prev_defaults  \\\n",
       "0      18690.93                    73           544              2   \n",
       "1      37745.19                    52           857              0   \n",
       "2      41598.36                    43           650              0   \n",
       "3      32627.76                    20           754              0   \n",
       "4      52950.64                    75           927              0   \n",
       "\n",
       "   default_in_last_6months  \n",
       "0                        1  \n",
       "1                        0  \n",
       "2                        0  \n",
       "3                        0  \n",
       "4                        0  "
      ]
     },
     "execution_count": 68,
     "metadata": {},
     "output_type": "execute_result"
    }
   ],
   "source": [
    "X.head()"
   ]
  },
  {
   "cell_type": "code",
   "execution_count": 69,
   "metadata": {},
   "outputs": [
    {
     "data": {
      "text/plain": [
       "age                          int64\n",
       "gender                      object\n",
       "owns_car                    object\n",
       "owns_house                  object\n",
       "net_yearly_income          float64\n",
       "no_of_days_employed        float64\n",
       "occupation_type             object\n",
       "total_family_members       float64\n",
       "migrant_worker             float64\n",
       "yearly_debt_payments       float64\n",
       "credit_limit               float64\n",
       "credit_limit_used(%)         int64\n",
       "credit_score                 int64\n",
       "prev_defaults                int64\n",
       "default_in_last_6months      int64\n",
       "dtype: object"
      ]
     },
     "execution_count": 69,
     "metadata": {},
     "output_type": "execute_result"
    }
   ],
   "source": [
    "X.dtypes"
   ]
  },
  {
   "cell_type": "code",
   "execution_count": 70,
   "metadata": {},
   "outputs": [],
   "source": [
    "X_encoded=pd.get_dummies(X,columns=[\"gender\",\"owns_car\",\"owns_house\",\"occupation_type\"])"
   ]
  },
  {
   "cell_type": "code",
   "execution_count": 71,
   "metadata": {},
   "outputs": [
    {
     "data": {
      "text/plain": [
       "age                                        int64\n",
       "net_yearly_income                        float64\n",
       "no_of_days_employed                      float64\n",
       "total_family_members                     float64\n",
       "migrant_worker                           float64\n",
       "yearly_debt_payments                     float64\n",
       "credit_limit                             float64\n",
       "credit_limit_used(%)                       int64\n",
       "credit_score                               int64\n",
       "prev_defaults                              int64\n",
       "default_in_last_6months                    int64\n",
       "gender_F                                   uint8\n",
       "gender_M                                   uint8\n",
       "gender_XNA                                 uint8\n",
       "owns_car_N                                 uint8\n",
       "owns_car_Y                                 uint8\n",
       "owns_house_N                               uint8\n",
       "owns_house_Y                               uint8\n",
       "occupation_type_Accountants                uint8\n",
       "occupation_type_Cleaning staff             uint8\n",
       "occupation_type_Cooking staff              uint8\n",
       "occupation_type_Core staff                 uint8\n",
       "occupation_type_Drivers                    uint8\n",
       "occupation_type_HR staff                   uint8\n",
       "occupation_type_High skill tech staff      uint8\n",
       "occupation_type_IT staff                   uint8\n",
       "occupation_type_Laborers                   uint8\n",
       "occupation_type_Low-skill Laborers         uint8\n",
       "occupation_type_Managers                   uint8\n",
       "occupation_type_Medicine staff             uint8\n",
       "occupation_type_Private service staff      uint8\n",
       "occupation_type_Realty agents              uint8\n",
       "occupation_type_Sales staff                uint8\n",
       "occupation_type_Secretaries                uint8\n",
       "occupation_type_Security staff             uint8\n",
       "occupation_type_Unknown                    uint8\n",
       "occupation_type_Waiters/barmen staff       uint8\n",
       "dtype: object"
      ]
     },
     "execution_count": 71,
     "metadata": {},
     "output_type": "execute_result"
    }
   ],
   "source": [
    "X_encoded.dtypes"
   ]
  },
  {
   "cell_type": "code",
   "execution_count": 72,
   "metadata": {},
   "outputs": [],
   "source": [
    "X_encoded.loc[:,\"age\":\"default_in_last_6months\"]=X_encoded.loc[:,\"age\":\"default_in_last_6months\"].fillna(method='ffill').fillna('bfill')"
   ]
  },
  {
   "cell_type": "code",
   "execution_count": 73,
   "metadata": {},
   "outputs": [
    {
     "data": {
      "text/plain": [
       "age                                        int64\n",
       "net_yearly_income                        float64\n",
       "no_of_days_employed                      float64\n",
       "total_family_members                     float64\n",
       "migrant_worker                           float64\n",
       "yearly_debt_payments                     float64\n",
       "credit_limit                             float64\n",
       "credit_limit_used(%)                       int64\n",
       "credit_score                               int64\n",
       "prev_defaults                              int64\n",
       "default_in_last_6months                    int64\n",
       "gender_F                                   uint8\n",
       "gender_M                                   uint8\n",
       "gender_XNA                                 uint8\n",
       "owns_car_N                                 uint8\n",
       "owns_car_Y                                 uint8\n",
       "owns_house_N                               uint8\n",
       "owns_house_Y                               uint8\n",
       "occupation_type_Accountants                uint8\n",
       "occupation_type_Cleaning staff             uint8\n",
       "occupation_type_Cooking staff              uint8\n",
       "occupation_type_Core staff                 uint8\n",
       "occupation_type_Drivers                    uint8\n",
       "occupation_type_HR staff                   uint8\n",
       "occupation_type_High skill tech staff      uint8\n",
       "occupation_type_IT staff                   uint8\n",
       "occupation_type_Laborers                   uint8\n",
       "occupation_type_Low-skill Laborers         uint8\n",
       "occupation_type_Managers                   uint8\n",
       "occupation_type_Medicine staff             uint8\n",
       "occupation_type_Private service staff      uint8\n",
       "occupation_type_Realty agents              uint8\n",
       "occupation_type_Sales staff                uint8\n",
       "occupation_type_Secretaries                uint8\n",
       "occupation_type_Security staff             uint8\n",
       "occupation_type_Unknown                    uint8\n",
       "occupation_type_Waiters/barmen staff       uint8\n",
       "dtype: object"
      ]
     },
     "execution_count": 73,
     "metadata": {},
     "output_type": "execute_result"
    }
   ],
   "source": [
    "X_encoded.dtypes"
   ]
  },
  {
   "cell_type": "code",
   "execution_count": 74,
   "metadata": {},
   "outputs": [
    {
     "data": {
      "text/plain": [
       "0.08120277631347741"
      ]
     },
     "execution_count": 74,
     "metadata": {},
     "output_type": "execute_result"
    }
   ],
   "source": [
    "sum(y)/len(y)"
   ]
  },
  {
   "cell_type": "code",
   "execution_count": 75,
   "metadata": {},
   "outputs": [],
   "source": [
    "X_train,X_test,y_train,y_test=train_test_split(X_encoded,y,random_state=42,stratify=y)"
   ]
  },
  {
   "cell_type": "code",
   "execution_count": 76,
   "metadata": {},
   "outputs": [
    {
     "data": {
      "text/plain": [
       "0.08121009781526387"
      ]
     },
     "execution_count": 76,
     "metadata": {},
     "output_type": "execute_result"
    }
   ],
   "source": [
    "sum(y_train)/len(y_train)"
   ]
  },
  {
   "cell_type": "code",
   "execution_count": 77,
   "metadata": {},
   "outputs": [
    {
     "data": {
      "text/plain": [
       "0.08118081180811808"
      ]
     },
     "execution_count": 77,
     "metadata": {},
     "output_type": "execute_result"
    }
   ],
   "source": [
    "sum(y_test)/len(y_test)"
   ]
  },
  {
   "cell_type": "code",
   "execution_count": 78,
   "metadata": {},
   "outputs": [
    {
     "name": "stdout",
     "output_type": "stream",
     "text": [
      "[0]\tvalidation_0-aucpr:0.95807\n",
      "[1]\tvalidation_0-aucpr:0.95985\n",
      "[2]\tvalidation_0-aucpr:0.96111\n"
     ]
    },
    {
     "name": "stderr",
     "output_type": "stream",
     "text": [
      "C:\\Users\\Mrudhulraj Natarajan\\.conda\\envs\\NLP\\lib\\site-packages\\xgboost\\sklearn.py:1224: UserWarning: The use of label encoder in XGBClassifier is deprecated and will be removed in a future release. To remove this warning, do the following: 1) Pass option use_label_encoder=False when constructing XGBClassifier object; and 2) Encode your labels (y) as integers starting with 0, i.e. 0, 1, 2, ..., [num_class - 1].\n",
      "  warnings.warn(label_encoder_deprecation_msg, UserWarning)\n"
     ]
    },
    {
     "name": "stdout",
     "output_type": "stream",
     "text": [
      "[3]\tvalidation_0-aucpr:0.96210\n",
      "[4]\tvalidation_0-aucpr:0.96132\n",
      "[5]\tvalidation_0-aucpr:0.96144\n",
      "[6]\tvalidation_0-aucpr:0.96121\n",
      "[7]\tvalidation_0-aucpr:0.96121\n",
      "[8]\tvalidation_0-aucpr:0.96090\n",
      "[9]\tvalidation_0-aucpr:0.96140\n",
      "[10]\tvalidation_0-aucpr:0.96156\n",
      "[11]\tvalidation_0-aucpr:0.96133\n",
      "[12]\tvalidation_0-aucpr:0.96140\n",
      "[13]\tvalidation_0-aucpr:0.96161\n"
     ]
    },
    {
     "data": {
      "text/plain": [
       "XGBClassifier(base_score=0.5, booster='gbtree', colsample_bylevel=1,\n",
       "              colsample_bynode=1, colsample_bytree=1, enable_categorical=False,\n",
       "              gamma=0, gpu_id=-1, importance_type=None,\n",
       "              interaction_constraints='', learning_rate=0.300000012,\n",
       "              max_delta_step=0, max_depth=6, min_child_weight=1, missing=1,\n",
       "              monotone_constraints='()', n_estimators=100, n_jobs=8,\n",
       "              num_parallel_tree=1, predictor='auto', random_state=28,\n",
       "              reg_alpha=0, reg_lambda=1, scale_pos_weight=1, seed=28,\n",
       "              subsample=1, tree_method='exact', validate_parameters=1,\n",
       "              verbosity=None)"
      ]
     },
     "execution_count": 78,
     "metadata": {},
     "output_type": "execute_result"
    }
   ],
   "source": [
    "clf_xgb=xgb.XGBClassifier(objective=\"binary:logistic\",missing=1,seed=28)\n",
    "clf_xgb.fit(X_train,y_train,verbose=True,early_stopping_rounds=10,eval_metric='aucpr',eval_set=[(X_test,y_test)])"
   ]
  },
  {
   "cell_type": "code",
   "execution_count": 31,
   "metadata": {},
   "outputs": [
    {
     "data": {
      "text/plain": [
       "RandomizedSearchCV(cv=10, estimator=RandomForestClassifier(),\n",
       "                   param_distributions={'bootstrap': [True, False],\n",
       "                                        'max_depth': [4, 6, 10, 12, None],\n",
       "                                        'max_features': ['auto', 'sqrt'],\n",
       "                                        'min_samples_leaf': [1, 2, 4],\n",
       "                                        'min_samples_split': [2, 5, 10],\n",
       "                                        'n_estimators': [50, 100, 150, 200]},\n",
       "                   random_state=42, scoring='accuracy')"
      ]
     },
     "execution_count": 31,
     "metadata": {},
     "output_type": "execute_result"
    }
   ],
   "source": [
    "from sklearn.model_selection import RandomizedSearchCV\n",
    "from sklearn.ensemble import RandomForestClassifier\n",
    "bootstrap = [True, False]\n",
    "max_features = ['auto','sqrt']\n",
    "min_samples_leaf = [1,2,4]\n",
    "min_samples_split = [2,5,10]\n",
    "n_estimators = [50,100,150,200]\n",
    "max_depth = [4,6,10,12, None]\n",
    "\n",
    "# Specify \"parameter distributions\" rather than a \"parameter grid\"\n",
    "param_dist = dict(n_estimators=n_estimators, max_depth = max_depth, bootstrap=bootstrap,\n",
    "                  min_samples_leaf=min_samples_leaf,min_samples_split=min_samples_split,\n",
    "                  max_features=max_features)\n",
    "\n",
    "# n_iter controls the number of searches\n",
    "\n",
    "rand = RandomizedSearchCV(RandomForestClassifier(), param_dist, cv=10, scoring='accuracy',\n",
    "                          n_iter=10, random_state=42)\n",
    "rand.fit(X_train, y_train)"
   ]
  },
  {
   "cell_type": "code",
   "execution_count": 32,
   "metadata": {},
   "outputs": [
    {
     "name": "stdout",
     "output_type": "stream",
     "text": [
      "0.9801147544217634\n",
      "{'n_estimators': 150, 'min_samples_split': 2, 'min_samples_leaf': 1, 'max_features': 'auto', 'max_depth': None, 'bootstrap': True}\n",
      "Mean score: 0.9785626148809357 Std: 0.0020075148179219855\n"
     ]
    }
   ],
   "source": [
    "def get_best_model(model_grid):\n",
    "    best_k = model_grid.cv_results_['rank_test_score'][0]\n",
    "    print (f\"Mean score: {model_grid.cv_results_['mean_test_score'][best_k]}\",\n",
    "           f\"Std: {model_grid.cv_results_['std_test_score'][best_k]}\")\n",
    "           \n",
    "# Examine the best model\n",
    "print(rand.best_score_)\n",
    "print(rand.best_params_)\n",
    "get_best_model(rand)"
   ]
  },
  {
   "cell_type": "code",
   "execution_count": 42,
   "metadata": {},
   "outputs": [],
   "source": [
    "\n",
    "rand_final=RandomForestClassifier(bootstrap = True,max_features = 'sqrt', random_state=42,max_depth = 10,n_estimators = 150,min_samples_split = 5,min_samples_leaf = 2)"
   ]
  },
  {
   "cell_type": "code",
   "execution_count": 43,
   "metadata": {},
   "outputs": [
    {
     "data": {
      "text/plain": [
       "RandomForestClassifier(max_depth=10, max_features='sqrt', min_samples_leaf=2,\n",
       "                       min_samples_split=5, n_estimators=150, random_state=42)"
      ]
     },
     "execution_count": 43,
     "metadata": {},
     "output_type": "execute_result"
    }
   ],
   "source": [
    "rand_final.fit(X_train,y_train)"
   ]
  },
  {
   "cell_type": "code",
   "execution_count": 31,
   "metadata": {},
   "outputs": [],
   "source": [
    "test=pd.read_csv(\"test.csv\")"
   ]
  },
  {
   "cell_type": "code",
   "execution_count": 32,
   "metadata": {},
   "outputs": [],
   "source": [
    "test.drop([\"name\",\"customer_id\",\"no_of_children\"],axis=1,inplace=True)"
   ]
  },
  {
   "cell_type": "code",
   "execution_count": 33,
   "metadata": {},
   "outputs": [],
   "source": [
    "test=pd.get_dummies(test,columns=[\"gender\",\"owns_car\",\"owns_house\",\"occupation_type\"])"
   ]
  },
  {
   "cell_type": "code",
   "execution_count": 34,
   "metadata": {},
   "outputs": [
    {
     "data": {
      "text/plain": [
       "age                                        int64\n",
       "net_yearly_income                        float64\n",
       "no_of_days_employed                      float64\n",
       "total_family_members                     float64\n",
       "migrant_worker                           float64\n",
       "yearly_debt_payments                     float64\n",
       "credit_limit                             float64\n",
       "credit_limit_used(%)                       int64\n",
       "credit_score                               int64\n",
       "prev_defaults                              int64\n",
       "default_in_last_6months                    int64\n",
       "gender_F                                   uint8\n",
       "gender_M                                   uint8\n",
       "gender_XNA                                 uint8\n",
       "owns_car_N                                 uint8\n",
       "owns_car_Y                                 uint8\n",
       "owns_house_N                               uint8\n",
       "owns_house_Y                               uint8\n",
       "occupation_type_Accountants                uint8\n",
       "occupation_type_Cleaning staff             uint8\n",
       "occupation_type_Cooking staff              uint8\n",
       "occupation_type_Core staff                 uint8\n",
       "occupation_type_Drivers                    uint8\n",
       "occupation_type_HR staff                   uint8\n",
       "occupation_type_High skill tech staff      uint8\n",
       "occupation_type_IT staff                   uint8\n",
       "occupation_type_Laborers                   uint8\n",
       "occupation_type_Low-skill Laborers         uint8\n",
       "occupation_type_Managers                   uint8\n",
       "occupation_type_Medicine staff             uint8\n",
       "occupation_type_Private service staff      uint8\n",
       "occupation_type_Realty agents              uint8\n",
       "occupation_type_Sales staff                uint8\n",
       "occupation_type_Secretaries                uint8\n",
       "occupation_type_Security staff             uint8\n",
       "occupation_type_Unknown                    uint8\n",
       "occupation_type_Waiters/barmen staff       uint8\n",
       "dtype: object"
      ]
     },
     "execution_count": 34,
     "metadata": {},
     "output_type": "execute_result"
    }
   ],
   "source": [
    "test.dtypes"
   ]
  },
  {
   "cell_type": "code",
   "execution_count": 35,
   "metadata": {},
   "outputs": [],
   "source": [
    "test.loc[:,\"age\":\"default_in_last_6months\"]=test.loc[:,\"age\":\"default_in_last_6months\"].fillna(method='ffill')"
   ]
  },
  {
   "cell_type": "code",
   "execution_count": 36,
   "metadata": {},
   "outputs": [
    {
     "data": {
      "text/plain": [
       "(11383, 37)"
      ]
     },
     "execution_count": 36,
     "metadata": {},
     "output_type": "execute_result"
    }
   ],
   "source": [
    "test.shape"
   ]
  },
  {
   "cell_type": "code",
   "execution_count": 37,
   "metadata": {},
   "outputs": [],
   "source": [
    "y_pred=clf_xgb.predict(test)"
   ]
  },
  {
   "cell_type": "code",
   "execution_count": 38,
   "metadata": {},
   "outputs": [
    {
     "data": {
      "text/plain": [
       "array([0, 0, 1, ..., 0, 0, 0], dtype=int64)"
      ]
     },
     "execution_count": 38,
     "metadata": {},
     "output_type": "execute_result"
    }
   ],
   "source": [
    "y_pred"
   ]
  },
  {
   "cell_type": "code",
   "execution_count": 39,
   "metadata": {},
   "outputs": [
    {
     "data": {
      "text/plain": [
       "11383"
      ]
     },
     "execution_count": 39,
     "metadata": {},
     "output_type": "execute_result"
    }
   ],
   "source": [
    "len(y_pred)"
   ]
  },
  {
   "cell_type": "code",
   "execution_count": 40,
   "metadata": {},
   "outputs": [],
   "source": [
    "final=pd.read_csv(\"test.csv\")"
   ]
  },
  {
   "cell_type": "code",
   "execution_count": 41,
   "metadata": {},
   "outputs": [
    {
     "data": {
      "text/html": [
       "<div>\n",
       "<style scoped>\n",
       "    .dataframe tbody tr th:only-of-type {\n",
       "        vertical-align: middle;\n",
       "    }\n",
       "\n",
       "    .dataframe tbody tr th {\n",
       "        vertical-align: top;\n",
       "    }\n",
       "\n",
       "    .dataframe thead th {\n",
       "        text-align: right;\n",
       "    }\n",
       "</style>\n",
       "<table border=\"1\" class=\"dataframe\">\n",
       "  <thead>\n",
       "    <tr style=\"text-align: right;\">\n",
       "      <th></th>\n",
       "      <th>customer_id</th>\n",
       "      <th>name</th>\n",
       "      <th>age</th>\n",
       "      <th>gender</th>\n",
       "      <th>owns_car</th>\n",
       "      <th>owns_house</th>\n",
       "      <th>no_of_children</th>\n",
       "      <th>net_yearly_income</th>\n",
       "      <th>no_of_days_employed</th>\n",
       "      <th>occupation_type</th>\n",
       "      <th>total_family_members</th>\n",
       "      <th>migrant_worker</th>\n",
       "      <th>yearly_debt_payments</th>\n",
       "      <th>credit_limit</th>\n",
       "      <th>credit_limit_used(%)</th>\n",
       "      <th>credit_score</th>\n",
       "      <th>prev_defaults</th>\n",
       "      <th>default_in_last_6months</th>\n",
       "    </tr>\n",
       "  </thead>\n",
       "  <tbody>\n",
       "    <tr>\n",
       "      <th>0</th>\n",
       "      <td>CST_142525</td>\n",
       "      <td>Siva</td>\n",
       "      <td>52</td>\n",
       "      <td>F</td>\n",
       "      <td>Y</td>\n",
       "      <td>N</td>\n",
       "      <td>0.0</td>\n",
       "      <td>232640.53</td>\n",
       "      <td>998.0</td>\n",
       "      <td>Unknown</td>\n",
       "      <td>2.0</td>\n",
       "      <td>0.0</td>\n",
       "      <td>14406.73</td>\n",
       "      <td>26524.40</td>\n",
       "      <td>4</td>\n",
       "      <td>779</td>\n",
       "      <td>0</td>\n",
       "      <td>0</td>\n",
       "    </tr>\n",
       "    <tr>\n",
       "      <th>1</th>\n",
       "      <td>CST_129215</td>\n",
       "      <td>Scott</td>\n",
       "      <td>48</td>\n",
       "      <td>F</td>\n",
       "      <td>N</td>\n",
       "      <td>N</td>\n",
       "      <td>1.0</td>\n",
       "      <td>284396.79</td>\n",
       "      <td>1338.0</td>\n",
       "      <td>Unknown</td>\n",
       "      <td>3.0</td>\n",
       "      <td>0.0</td>\n",
       "      <td>57479.99</td>\n",
       "      <td>68998.72</td>\n",
       "      <td>70</td>\n",
       "      <td>806</td>\n",
       "      <td>0</td>\n",
       "      <td>0</td>\n",
       "    </tr>\n",
       "    <tr>\n",
       "      <th>2</th>\n",
       "      <td>CST_138443</td>\n",
       "      <td>Victoria</td>\n",
       "      <td>50</td>\n",
       "      <td>F</td>\n",
       "      <td>N</td>\n",
       "      <td>N</td>\n",
       "      <td>1.0</td>\n",
       "      <td>149419.28</td>\n",
       "      <td>1210.0</td>\n",
       "      <td>Unknown</td>\n",
       "      <td>3.0</td>\n",
       "      <td>0.0</td>\n",
       "      <td>21611.01</td>\n",
       "      <td>25187.80</td>\n",
       "      <td>71</td>\n",
       "      <td>528</td>\n",
       "      <td>2</td>\n",
       "      <td>0</td>\n",
       "    </tr>\n",
       "    <tr>\n",
       "      <th>3</th>\n",
       "      <td>CST_123812</td>\n",
       "      <td>John McCrank</td>\n",
       "      <td>30</td>\n",
       "      <td>F</td>\n",
       "      <td>N</td>\n",
       "      <td>N</td>\n",
       "      <td>1.0</td>\n",
       "      <td>160437.54</td>\n",
       "      <td>503.0</td>\n",
       "      <td>Laborers</td>\n",
       "      <td>2.0</td>\n",
       "      <td>1.0</td>\n",
       "      <td>28990.76</td>\n",
       "      <td>29179.39</td>\n",
       "      <td>9</td>\n",
       "      <td>815</td>\n",
       "      <td>0</td>\n",
       "      <td>0</td>\n",
       "    </tr>\n",
       "    <tr>\n",
       "      <th>4</th>\n",
       "      <td>CST_144450</td>\n",
       "      <td>Martinne</td>\n",
       "      <td>52</td>\n",
       "      <td>M</td>\n",
       "      <td>N</td>\n",
       "      <td>Y</td>\n",
       "      <td>0.0</td>\n",
       "      <td>233480.37</td>\n",
       "      <td>157.0</td>\n",
       "      <td>Laborers</td>\n",
       "      <td>2.0</td>\n",
       "      <td>1.0</td>\n",
       "      <td>54213.72</td>\n",
       "      <td>82331.82</td>\n",
       "      <td>82</td>\n",
       "      <td>613</td>\n",
       "      <td>1</td>\n",
       "      <td>1</td>\n",
       "    </tr>\n",
       "    <tr>\n",
       "      <th>...</th>\n",
       "      <td>...</td>\n",
       "      <td>...</td>\n",
       "      <td>...</td>\n",
       "      <td>...</td>\n",
       "      <td>...</td>\n",
       "      <td>...</td>\n",
       "      <td>...</td>\n",
       "      <td>...</td>\n",
       "      <td>...</td>\n",
       "      <td>...</td>\n",
       "      <td>...</td>\n",
       "      <td>...</td>\n",
       "      <td>...</td>\n",
       "      <td>...</td>\n",
       "      <td>...</td>\n",
       "      <td>...</td>\n",
       "      <td>...</td>\n",
       "      <td>...</td>\n",
       "    </tr>\n",
       "    <tr>\n",
       "      <th>11378</th>\n",
       "      <td>CST_142412</td>\n",
       "      <td>Solarina</td>\n",
       "      <td>53</td>\n",
       "      <td>F</td>\n",
       "      <td>N</td>\n",
       "      <td>N</td>\n",
       "      <td>0.0</td>\n",
       "      <td>266824.38</td>\n",
       "      <td>3051.0</td>\n",
       "      <td>Sales staff</td>\n",
       "      <td>1.0</td>\n",
       "      <td>0.0</td>\n",
       "      <td>17791.56</td>\n",
       "      <td>64483.93</td>\n",
       "      <td>74</td>\n",
       "      <td>823</td>\n",
       "      <td>0</td>\n",
       "      <td>0</td>\n",
       "    </tr>\n",
       "    <tr>\n",
       "      <th>11379</th>\n",
       "      <td>CST_107967</td>\n",
       "      <td>Jonathan Cable</td>\n",
       "      <td>33</td>\n",
       "      <td>F</td>\n",
       "      <td>NaN</td>\n",
       "      <td>N</td>\n",
       "      <td>0.0</td>\n",
       "      <td>124310.85</td>\n",
       "      <td>365248.0</td>\n",
       "      <td>Unknown</td>\n",
       "      <td>1.0</td>\n",
       "      <td>0.0</td>\n",
       "      <td>26576.79</td>\n",
       "      <td>29851.73</td>\n",
       "      <td>60</td>\n",
       "      <td>712</td>\n",
       "      <td>0</td>\n",
       "      <td>0</td>\n",
       "    </tr>\n",
       "    <tr>\n",
       "      <th>11380</th>\n",
       "      <td>CST_134002</td>\n",
       "      <td>Robin</td>\n",
       "      <td>27</td>\n",
       "      <td>M</td>\n",
       "      <td>Y</td>\n",
       "      <td>Y</td>\n",
       "      <td>1.0</td>\n",
       "      <td>364652.81</td>\n",
       "      <td>3431.0</td>\n",
       "      <td>Laborers</td>\n",
       "      <td>3.0</td>\n",
       "      <td>0.0</td>\n",
       "      <td>28658.55</td>\n",
       "      <td>69336.96</td>\n",
       "      <td>67</td>\n",
       "      <td>674</td>\n",
       "      <td>0</td>\n",
       "      <td>0</td>\n",
       "    </tr>\n",
       "    <tr>\n",
       "      <th>11381</th>\n",
       "      <td>CST_146856</td>\n",
       "      <td>Lauren</td>\n",
       "      <td>36</td>\n",
       "      <td>F</td>\n",
       "      <td>N</td>\n",
       "      <td>Y</td>\n",
       "      <td>0.0</td>\n",
       "      <td>128769.02</td>\n",
       "      <td>16320.0</td>\n",
       "      <td>Medicine staff</td>\n",
       "      <td>1.0</td>\n",
       "      <td>0.0</td>\n",
       "      <td>11527.38</td>\n",
       "      <td>26908.03</td>\n",
       "      <td>17</td>\n",
       "      <td>684</td>\n",
       "      <td>0</td>\n",
       "      <td>0</td>\n",
       "    </tr>\n",
       "    <tr>\n",
       "      <th>11382</th>\n",
       "      <td>CST_112001</td>\n",
       "      <td>Lynnley Browning</td>\n",
       "      <td>45</td>\n",
       "      <td>F</td>\n",
       "      <td>N</td>\n",
       "      <td>Y</td>\n",
       "      <td>0.0</td>\n",
       "      <td>158543.43</td>\n",
       "      <td>9443.0</td>\n",
       "      <td>Medicine staff</td>\n",
       "      <td>2.0</td>\n",
       "      <td>0.0</td>\n",
       "      <td>30290.64</td>\n",
       "      <td>26071.88</td>\n",
       "      <td>64</td>\n",
       "      <td>930</td>\n",
       "      <td>0</td>\n",
       "      <td>0</td>\n",
       "    </tr>\n",
       "  </tbody>\n",
       "</table>\n",
       "<p>11383 rows × 18 columns</p>\n",
       "</div>"
      ],
      "text/plain": [
       "      customer_id              name  age gender owns_car owns_house  \\\n",
       "0      CST_142525              Siva   52      F        Y          N   \n",
       "1      CST_129215             Scott   48      F        N          N   \n",
       "2      CST_138443          Victoria   50      F        N          N   \n",
       "3      CST_123812      John McCrank   30      F        N          N   \n",
       "4      CST_144450          Martinne   52      M        N          Y   \n",
       "...           ...               ...  ...    ...      ...        ...   \n",
       "11378  CST_142412          Solarina   53      F        N          N   \n",
       "11379  CST_107967    Jonathan Cable   33      F      NaN          N   \n",
       "11380  CST_134002             Robin   27      M        Y          Y   \n",
       "11381  CST_146856            Lauren   36      F        N          Y   \n",
       "11382  CST_112001  Lynnley Browning   45      F        N          Y   \n",
       "\n",
       "       no_of_children  net_yearly_income  no_of_days_employed occupation_type  \\\n",
       "0                 0.0          232640.53                998.0         Unknown   \n",
       "1                 1.0          284396.79               1338.0         Unknown   \n",
       "2                 1.0          149419.28               1210.0         Unknown   \n",
       "3                 1.0          160437.54                503.0        Laborers   \n",
       "4                 0.0          233480.37                157.0        Laborers   \n",
       "...               ...                ...                  ...             ...   \n",
       "11378             0.0          266824.38               3051.0     Sales staff   \n",
       "11379             0.0          124310.85             365248.0         Unknown   \n",
       "11380             1.0          364652.81               3431.0        Laborers   \n",
       "11381             0.0          128769.02              16320.0  Medicine staff   \n",
       "11382             0.0          158543.43               9443.0  Medicine staff   \n",
       "\n",
       "       total_family_members  migrant_worker  yearly_debt_payments  \\\n",
       "0                       2.0             0.0              14406.73   \n",
       "1                       3.0             0.0              57479.99   \n",
       "2                       3.0             0.0              21611.01   \n",
       "3                       2.0             1.0              28990.76   \n",
       "4                       2.0             1.0              54213.72   \n",
       "...                     ...             ...                   ...   \n",
       "11378                   1.0             0.0              17791.56   \n",
       "11379                   1.0             0.0              26576.79   \n",
       "11380                   3.0             0.0              28658.55   \n",
       "11381                   1.0             0.0              11527.38   \n",
       "11382                   2.0             0.0              30290.64   \n",
       "\n",
       "       credit_limit  credit_limit_used(%)  credit_score  prev_defaults  \\\n",
       "0          26524.40                     4           779              0   \n",
       "1          68998.72                    70           806              0   \n",
       "2          25187.80                    71           528              2   \n",
       "3          29179.39                     9           815              0   \n",
       "4          82331.82                    82           613              1   \n",
       "...             ...                   ...           ...            ...   \n",
       "11378      64483.93                    74           823              0   \n",
       "11379      29851.73                    60           712              0   \n",
       "11380      69336.96                    67           674              0   \n",
       "11381      26908.03                    17           684              0   \n",
       "11382      26071.88                    64           930              0   \n",
       "\n",
       "       default_in_last_6months  \n",
       "0                            0  \n",
       "1                            0  \n",
       "2                            0  \n",
       "3                            0  \n",
       "4                            1  \n",
       "...                        ...  \n",
       "11378                        0  \n",
       "11379                        0  \n",
       "11380                        0  \n",
       "11381                        0  \n",
       "11382                        0  \n",
       "\n",
       "[11383 rows x 18 columns]"
      ]
     },
     "execution_count": 41,
     "metadata": {},
     "output_type": "execute_result"
    }
   ],
   "source": [
    "final"
   ]
  },
  {
   "cell_type": "code",
   "execution_count": 42,
   "metadata": {},
   "outputs": [],
   "source": [
    "y_pred=list(y_pred)"
   ]
  },
  {
   "cell_type": "code",
   "execution_count": 43,
   "metadata": {},
   "outputs": [],
   "source": [
    "final[\"credit_card_default\"]=y_pred"
   ]
  },
  {
   "cell_type": "code",
   "execution_count": 44,
   "metadata": {},
   "outputs": [
    {
     "data": {
      "text/html": [
       "<div>\n",
       "<style scoped>\n",
       "    .dataframe tbody tr th:only-of-type {\n",
       "        vertical-align: middle;\n",
       "    }\n",
       "\n",
       "    .dataframe tbody tr th {\n",
       "        vertical-align: top;\n",
       "    }\n",
       "\n",
       "    .dataframe thead th {\n",
       "        text-align: right;\n",
       "    }\n",
       "</style>\n",
       "<table border=\"1\" class=\"dataframe\">\n",
       "  <thead>\n",
       "    <tr style=\"text-align: right;\">\n",
       "      <th></th>\n",
       "      <th>customer_id</th>\n",
       "      <th>name</th>\n",
       "      <th>age</th>\n",
       "      <th>gender</th>\n",
       "      <th>owns_car</th>\n",
       "      <th>owns_house</th>\n",
       "      <th>no_of_children</th>\n",
       "      <th>net_yearly_income</th>\n",
       "      <th>no_of_days_employed</th>\n",
       "      <th>occupation_type</th>\n",
       "      <th>total_family_members</th>\n",
       "      <th>migrant_worker</th>\n",
       "      <th>yearly_debt_payments</th>\n",
       "      <th>credit_limit</th>\n",
       "      <th>credit_limit_used(%)</th>\n",
       "      <th>credit_score</th>\n",
       "      <th>prev_defaults</th>\n",
       "      <th>default_in_last_6months</th>\n",
       "      <th>credit_card_default</th>\n",
       "    </tr>\n",
       "  </thead>\n",
       "  <tbody>\n",
       "    <tr>\n",
       "      <th>0</th>\n",
       "      <td>CST_142525</td>\n",
       "      <td>Siva</td>\n",
       "      <td>52</td>\n",
       "      <td>F</td>\n",
       "      <td>Y</td>\n",
       "      <td>N</td>\n",
       "      <td>0.0</td>\n",
       "      <td>232640.53</td>\n",
       "      <td>998.0</td>\n",
       "      <td>Unknown</td>\n",
       "      <td>2.0</td>\n",
       "      <td>0.0</td>\n",
       "      <td>14406.73</td>\n",
       "      <td>26524.40</td>\n",
       "      <td>4</td>\n",
       "      <td>779</td>\n",
       "      <td>0</td>\n",
       "      <td>0</td>\n",
       "      <td>0</td>\n",
       "    </tr>\n",
       "    <tr>\n",
       "      <th>1</th>\n",
       "      <td>CST_129215</td>\n",
       "      <td>Scott</td>\n",
       "      <td>48</td>\n",
       "      <td>F</td>\n",
       "      <td>N</td>\n",
       "      <td>N</td>\n",
       "      <td>1.0</td>\n",
       "      <td>284396.79</td>\n",
       "      <td>1338.0</td>\n",
       "      <td>Unknown</td>\n",
       "      <td>3.0</td>\n",
       "      <td>0.0</td>\n",
       "      <td>57479.99</td>\n",
       "      <td>68998.72</td>\n",
       "      <td>70</td>\n",
       "      <td>806</td>\n",
       "      <td>0</td>\n",
       "      <td>0</td>\n",
       "      <td>0</td>\n",
       "    </tr>\n",
       "    <tr>\n",
       "      <th>2</th>\n",
       "      <td>CST_138443</td>\n",
       "      <td>Victoria</td>\n",
       "      <td>50</td>\n",
       "      <td>F</td>\n",
       "      <td>N</td>\n",
       "      <td>N</td>\n",
       "      <td>1.0</td>\n",
       "      <td>149419.28</td>\n",
       "      <td>1210.0</td>\n",
       "      <td>Unknown</td>\n",
       "      <td>3.0</td>\n",
       "      <td>0.0</td>\n",
       "      <td>21611.01</td>\n",
       "      <td>25187.80</td>\n",
       "      <td>71</td>\n",
       "      <td>528</td>\n",
       "      <td>2</td>\n",
       "      <td>0</td>\n",
       "      <td>1</td>\n",
       "    </tr>\n",
       "    <tr>\n",
       "      <th>3</th>\n",
       "      <td>CST_123812</td>\n",
       "      <td>John McCrank</td>\n",
       "      <td>30</td>\n",
       "      <td>F</td>\n",
       "      <td>N</td>\n",
       "      <td>N</td>\n",
       "      <td>1.0</td>\n",
       "      <td>160437.54</td>\n",
       "      <td>503.0</td>\n",
       "      <td>Laborers</td>\n",
       "      <td>2.0</td>\n",
       "      <td>1.0</td>\n",
       "      <td>28990.76</td>\n",
       "      <td>29179.39</td>\n",
       "      <td>9</td>\n",
       "      <td>815</td>\n",
       "      <td>0</td>\n",
       "      <td>0</td>\n",
       "      <td>0</td>\n",
       "    </tr>\n",
       "    <tr>\n",
       "      <th>4</th>\n",
       "      <td>CST_144450</td>\n",
       "      <td>Martinne</td>\n",
       "      <td>52</td>\n",
       "      <td>M</td>\n",
       "      <td>N</td>\n",
       "      <td>Y</td>\n",
       "      <td>0.0</td>\n",
       "      <td>233480.37</td>\n",
       "      <td>157.0</td>\n",
       "      <td>Laborers</td>\n",
       "      <td>2.0</td>\n",
       "      <td>1.0</td>\n",
       "      <td>54213.72</td>\n",
       "      <td>82331.82</td>\n",
       "      <td>82</td>\n",
       "      <td>613</td>\n",
       "      <td>1</td>\n",
       "      <td>1</td>\n",
       "      <td>1</td>\n",
       "    </tr>\n",
       "    <tr>\n",
       "      <th>...</th>\n",
       "      <td>...</td>\n",
       "      <td>...</td>\n",
       "      <td>...</td>\n",
       "      <td>...</td>\n",
       "      <td>...</td>\n",
       "      <td>...</td>\n",
       "      <td>...</td>\n",
       "      <td>...</td>\n",
       "      <td>...</td>\n",
       "      <td>...</td>\n",
       "      <td>...</td>\n",
       "      <td>...</td>\n",
       "      <td>...</td>\n",
       "      <td>...</td>\n",
       "      <td>...</td>\n",
       "      <td>...</td>\n",
       "      <td>...</td>\n",
       "      <td>...</td>\n",
       "      <td>...</td>\n",
       "    </tr>\n",
       "    <tr>\n",
       "      <th>11378</th>\n",
       "      <td>CST_142412</td>\n",
       "      <td>Solarina</td>\n",
       "      <td>53</td>\n",
       "      <td>F</td>\n",
       "      <td>N</td>\n",
       "      <td>N</td>\n",
       "      <td>0.0</td>\n",
       "      <td>266824.38</td>\n",
       "      <td>3051.0</td>\n",
       "      <td>Sales staff</td>\n",
       "      <td>1.0</td>\n",
       "      <td>0.0</td>\n",
       "      <td>17791.56</td>\n",
       "      <td>64483.93</td>\n",
       "      <td>74</td>\n",
       "      <td>823</td>\n",
       "      <td>0</td>\n",
       "      <td>0</td>\n",
       "      <td>0</td>\n",
       "    </tr>\n",
       "    <tr>\n",
       "      <th>11379</th>\n",
       "      <td>CST_107967</td>\n",
       "      <td>Jonathan Cable</td>\n",
       "      <td>33</td>\n",
       "      <td>F</td>\n",
       "      <td>NaN</td>\n",
       "      <td>N</td>\n",
       "      <td>0.0</td>\n",
       "      <td>124310.85</td>\n",
       "      <td>365248.0</td>\n",
       "      <td>Unknown</td>\n",
       "      <td>1.0</td>\n",
       "      <td>0.0</td>\n",
       "      <td>26576.79</td>\n",
       "      <td>29851.73</td>\n",
       "      <td>60</td>\n",
       "      <td>712</td>\n",
       "      <td>0</td>\n",
       "      <td>0</td>\n",
       "      <td>0</td>\n",
       "    </tr>\n",
       "    <tr>\n",
       "      <th>11380</th>\n",
       "      <td>CST_134002</td>\n",
       "      <td>Robin</td>\n",
       "      <td>27</td>\n",
       "      <td>M</td>\n",
       "      <td>Y</td>\n",
       "      <td>Y</td>\n",
       "      <td>1.0</td>\n",
       "      <td>364652.81</td>\n",
       "      <td>3431.0</td>\n",
       "      <td>Laborers</td>\n",
       "      <td>3.0</td>\n",
       "      <td>0.0</td>\n",
       "      <td>28658.55</td>\n",
       "      <td>69336.96</td>\n",
       "      <td>67</td>\n",
       "      <td>674</td>\n",
       "      <td>0</td>\n",
       "      <td>0</td>\n",
       "      <td>0</td>\n",
       "    </tr>\n",
       "    <tr>\n",
       "      <th>11381</th>\n",
       "      <td>CST_146856</td>\n",
       "      <td>Lauren</td>\n",
       "      <td>36</td>\n",
       "      <td>F</td>\n",
       "      <td>N</td>\n",
       "      <td>Y</td>\n",
       "      <td>0.0</td>\n",
       "      <td>128769.02</td>\n",
       "      <td>16320.0</td>\n",
       "      <td>Medicine staff</td>\n",
       "      <td>1.0</td>\n",
       "      <td>0.0</td>\n",
       "      <td>11527.38</td>\n",
       "      <td>26908.03</td>\n",
       "      <td>17</td>\n",
       "      <td>684</td>\n",
       "      <td>0</td>\n",
       "      <td>0</td>\n",
       "      <td>0</td>\n",
       "    </tr>\n",
       "    <tr>\n",
       "      <th>11382</th>\n",
       "      <td>CST_112001</td>\n",
       "      <td>Lynnley Browning</td>\n",
       "      <td>45</td>\n",
       "      <td>F</td>\n",
       "      <td>N</td>\n",
       "      <td>Y</td>\n",
       "      <td>0.0</td>\n",
       "      <td>158543.43</td>\n",
       "      <td>9443.0</td>\n",
       "      <td>Medicine staff</td>\n",
       "      <td>2.0</td>\n",
       "      <td>0.0</td>\n",
       "      <td>30290.64</td>\n",
       "      <td>26071.88</td>\n",
       "      <td>64</td>\n",
       "      <td>930</td>\n",
       "      <td>0</td>\n",
       "      <td>0</td>\n",
       "      <td>0</td>\n",
       "    </tr>\n",
       "  </tbody>\n",
       "</table>\n",
       "<p>11383 rows × 19 columns</p>\n",
       "</div>"
      ],
      "text/plain": [
       "      customer_id              name  age gender owns_car owns_house  \\\n",
       "0      CST_142525              Siva   52      F        Y          N   \n",
       "1      CST_129215             Scott   48      F        N          N   \n",
       "2      CST_138443          Victoria   50      F        N          N   \n",
       "3      CST_123812      John McCrank   30      F        N          N   \n",
       "4      CST_144450          Martinne   52      M        N          Y   \n",
       "...           ...               ...  ...    ...      ...        ...   \n",
       "11378  CST_142412          Solarina   53      F        N          N   \n",
       "11379  CST_107967    Jonathan Cable   33      F      NaN          N   \n",
       "11380  CST_134002             Robin   27      M        Y          Y   \n",
       "11381  CST_146856            Lauren   36      F        N          Y   \n",
       "11382  CST_112001  Lynnley Browning   45      F        N          Y   \n",
       "\n",
       "       no_of_children  net_yearly_income  no_of_days_employed occupation_type  \\\n",
       "0                 0.0          232640.53                998.0         Unknown   \n",
       "1                 1.0          284396.79               1338.0         Unknown   \n",
       "2                 1.0          149419.28               1210.0         Unknown   \n",
       "3                 1.0          160437.54                503.0        Laborers   \n",
       "4                 0.0          233480.37                157.0        Laborers   \n",
       "...               ...                ...                  ...             ...   \n",
       "11378             0.0          266824.38               3051.0     Sales staff   \n",
       "11379             0.0          124310.85             365248.0         Unknown   \n",
       "11380             1.0          364652.81               3431.0        Laborers   \n",
       "11381             0.0          128769.02              16320.0  Medicine staff   \n",
       "11382             0.0          158543.43               9443.0  Medicine staff   \n",
       "\n",
       "       total_family_members  migrant_worker  yearly_debt_payments  \\\n",
       "0                       2.0             0.0              14406.73   \n",
       "1                       3.0             0.0              57479.99   \n",
       "2                       3.0             0.0              21611.01   \n",
       "3                       2.0             1.0              28990.76   \n",
       "4                       2.0             1.0              54213.72   \n",
       "...                     ...             ...                   ...   \n",
       "11378                   1.0             0.0              17791.56   \n",
       "11379                   1.0             0.0              26576.79   \n",
       "11380                   3.0             0.0              28658.55   \n",
       "11381                   1.0             0.0              11527.38   \n",
       "11382                   2.0             0.0              30290.64   \n",
       "\n",
       "       credit_limit  credit_limit_used(%)  credit_score  prev_defaults  \\\n",
       "0          26524.40                     4           779              0   \n",
       "1          68998.72                    70           806              0   \n",
       "2          25187.80                    71           528              2   \n",
       "3          29179.39                     9           815              0   \n",
       "4          82331.82                    82           613              1   \n",
       "...             ...                   ...           ...            ...   \n",
       "11378      64483.93                    74           823              0   \n",
       "11379      29851.73                    60           712              0   \n",
       "11380      69336.96                    67           674              0   \n",
       "11381      26908.03                    17           684              0   \n",
       "11382      26071.88                    64           930              0   \n",
       "\n",
       "       default_in_last_6months  credit_card_default  \n",
       "0                            0                    0  \n",
       "1                            0                    0  \n",
       "2                            0                    1  \n",
       "3                            0                    0  \n",
       "4                            1                    1  \n",
       "...                        ...                  ...  \n",
       "11378                        0                    0  \n",
       "11379                        0                    0  \n",
       "11380                        0                    0  \n",
       "11381                        0                    0  \n",
       "11382                        0                    0  \n",
       "\n",
       "[11383 rows x 19 columns]"
      ]
     },
     "execution_count": 44,
     "metadata": {},
     "output_type": "execute_result"
    }
   ],
   "source": [
    "final"
   ]
  },
  {
   "cell_type": "code",
   "execution_count": 45,
   "metadata": {},
   "outputs": [
    {
     "data": {
      "text/plain": [
       "customer_id                 object\n",
       "name                        object\n",
       "age                          int64\n",
       "gender                      object\n",
       "owns_car                    object\n",
       "owns_house                  object\n",
       "no_of_children             float64\n",
       "net_yearly_income          float64\n",
       "no_of_days_employed        float64\n",
       "occupation_type             object\n",
       "total_family_members       float64\n",
       "migrant_worker             float64\n",
       "yearly_debt_payments       float64\n",
       "credit_limit               float64\n",
       "credit_limit_used(%)         int64\n",
       "credit_score                 int64\n",
       "prev_defaults                int64\n",
       "default_in_last_6months      int64\n",
       "credit_card_default          int64\n",
       "dtype: object"
      ]
     },
     "execution_count": 45,
     "metadata": {},
     "output_type": "execute_result"
    }
   ],
   "source": [
    "final.dtypes"
   ]
  },
  {
   "cell_type": "code",
   "execution_count": 46,
   "metadata": {},
   "outputs": [],
   "source": [
    "final=final[[\"customer_id\",\"credit_card_default\"]]"
   ]
  },
  {
   "cell_type": "code",
   "execution_count": 47,
   "metadata": {},
   "outputs": [
    {
     "data": {
      "text/html": [
       "<div>\n",
       "<style scoped>\n",
       "    .dataframe tbody tr th:only-of-type {\n",
       "        vertical-align: middle;\n",
       "    }\n",
       "\n",
       "    .dataframe tbody tr th {\n",
       "        vertical-align: top;\n",
       "    }\n",
       "\n",
       "    .dataframe thead th {\n",
       "        text-align: right;\n",
       "    }\n",
       "</style>\n",
       "<table border=\"1\" class=\"dataframe\">\n",
       "  <thead>\n",
       "    <tr style=\"text-align: right;\">\n",
       "      <th></th>\n",
       "      <th>customer_id</th>\n",
       "      <th>credit_card_default</th>\n",
       "    </tr>\n",
       "  </thead>\n",
       "  <tbody>\n",
       "    <tr>\n",
       "      <th>0</th>\n",
       "      <td>CST_142525</td>\n",
       "      <td>0</td>\n",
       "    </tr>\n",
       "    <tr>\n",
       "      <th>1</th>\n",
       "      <td>CST_129215</td>\n",
       "      <td>0</td>\n",
       "    </tr>\n",
       "    <tr>\n",
       "      <th>2</th>\n",
       "      <td>CST_138443</td>\n",
       "      <td>1</td>\n",
       "    </tr>\n",
       "    <tr>\n",
       "      <th>3</th>\n",
       "      <td>CST_123812</td>\n",
       "      <td>0</td>\n",
       "    </tr>\n",
       "    <tr>\n",
       "      <th>4</th>\n",
       "      <td>CST_144450</td>\n",
       "      <td>1</td>\n",
       "    </tr>\n",
       "    <tr>\n",
       "      <th>...</th>\n",
       "      <td>...</td>\n",
       "      <td>...</td>\n",
       "    </tr>\n",
       "    <tr>\n",
       "      <th>11378</th>\n",
       "      <td>CST_142412</td>\n",
       "      <td>0</td>\n",
       "    </tr>\n",
       "    <tr>\n",
       "      <th>11379</th>\n",
       "      <td>CST_107967</td>\n",
       "      <td>0</td>\n",
       "    </tr>\n",
       "    <tr>\n",
       "      <th>11380</th>\n",
       "      <td>CST_134002</td>\n",
       "      <td>0</td>\n",
       "    </tr>\n",
       "    <tr>\n",
       "      <th>11381</th>\n",
       "      <td>CST_146856</td>\n",
       "      <td>0</td>\n",
       "    </tr>\n",
       "    <tr>\n",
       "      <th>11382</th>\n",
       "      <td>CST_112001</td>\n",
       "      <td>0</td>\n",
       "    </tr>\n",
       "  </tbody>\n",
       "</table>\n",
       "<p>11383 rows × 2 columns</p>\n",
       "</div>"
      ],
      "text/plain": [
       "      customer_id  credit_card_default\n",
       "0      CST_142525                    0\n",
       "1      CST_129215                    0\n",
       "2      CST_138443                    1\n",
       "3      CST_123812                    0\n",
       "4      CST_144450                    1\n",
       "...           ...                  ...\n",
       "11378  CST_142412                    0\n",
       "11379  CST_107967                    0\n",
       "11380  CST_134002                    0\n",
       "11381  CST_146856                    0\n",
       "11382  CST_112001                    0\n",
       "\n",
       "[11383 rows x 2 columns]"
      ]
     },
     "execution_count": 47,
     "metadata": {},
     "output_type": "execute_result"
    }
   ],
   "source": [
    "final"
   ]
  },
  {
   "cell_type": "code",
   "execution_count": 48,
   "metadata": {},
   "outputs": [],
   "source": [
    "final.to_csv(\"Result_4.csv\")"
   ]
  },
  {
   "cell_type": "code",
   "execution_count": null,
   "metadata": {},
   "outputs": [],
   "source": []
  }
 ],
 "metadata": {
  "kernelspec": {
   "display_name": "Python 3",
   "language": "python",
   "name": "python3"
  },
  "language_info": {
   "codemirror_mode": {
    "name": "ipython",
    "version": 3
   },
   "file_extension": ".py",
   "mimetype": "text/x-python",
   "name": "python",
   "nbconvert_exporter": "python",
   "pygments_lexer": "ipython3",
   "version": "3.8.5"
  }
 },
 "nbformat": 4,
 "nbformat_minor": 5
}
